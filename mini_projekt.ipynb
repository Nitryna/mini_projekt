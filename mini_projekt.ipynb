{
 "cells": [
  {
   "cell_type": "code",
   "execution_count": 179,
   "metadata": {},
   "outputs": [
    {
     "data": {
      "text/html": [
       "<div>\n",
       "<style scoped>\n",
       "    .dataframe tbody tr th:only-of-type {\n",
       "        vertical-align: middle;\n",
       "    }\n",
       "\n",
       "    .dataframe tbody tr th {\n",
       "        vertical-align: top;\n",
       "    }\n",
       "\n",
       "    .dataframe thead th {\n",
       "        text-align: right;\n",
       "    }\n",
       "</style>\n",
       "<table border=\"1\" class=\"dataframe\">\n",
       "  <thead>\n",
       "    <tr style=\"text-align: right;\">\n",
       "      <th></th>\n",
       "      <th>year</th>\n",
       "      <th>month</th>\n",
       "      <th>day</th>\n",
       "      <th>country</th>\n",
       "      <th>country</th>\n",
       "      <th>region</th>\n",
       "      <th>region_txt</th>\n",
       "      <th>state</th>\n",
       "      <th>city</th>\n",
       "      <th>attacktype1</th>\n",
       "      <th>...</th>\n",
       "      <th>targsubtype1</th>\n",
       "      <th>targsubtype1_txt</th>\n",
       "      <th>corp1</th>\n",
       "      <th>weaptype1</th>\n",
       "      <th>weapon</th>\n",
       "      <th>Unnamed: 18</th>\n",
       "      <th>Unnamed: 19</th>\n",
       "      <th>Unnamed: 20</th>\n",
       "      <th>Unnamed: 21</th>\n",
       "      <th>Unnamed: 22</th>\n",
       "    </tr>\n",
       "  </thead>\n",
       "  <tbody>\n",
       "    <tr>\n",
       "      <th>0</th>\n",
       "      <td>2000</td>\n",
       "      <td>1</td>\n",
       "      <td>1</td>\n",
       "      <td>1003</td>\n",
       "      <td>Kosovo</td>\n",
       "      <td>9</td>\n",
       "      <td>Eastern Europe</td>\n",
       "      <td>Kosovo (Province)</td>\n",
       "      <td>Peje</td>\n",
       "      <td>3</td>\n",
       "      <td>...</td>\n",
       "      <td>76.0</td>\n",
       "      <td>House/Apartment/Residence</td>\n",
       "      <td>Civilians</td>\n",
       "      <td>6</td>\n",
       "      <td>Explosives</td>\n",
       "      <td>NaN</td>\n",
       "      <td>NaN</td>\n",
       "      <td>NaN</td>\n",
       "      <td>NaN</td>\n",
       "      <td>NaN</td>\n",
       "    </tr>\n",
       "    <tr>\n",
       "      <th>1</th>\n",
       "      <td>2000</td>\n",
       "      <td>1</td>\n",
       "      <td>1</td>\n",
       "      <td>1003</td>\n",
       "      <td>Kosovo</td>\n",
       "      <td>9</td>\n",
       "      <td>Eastern Europe</td>\n",
       "      <td>Kosovo (Province)</td>\n",
       "      <td>Gorazhdec</td>\n",
       "      <td>2</td>\n",
       "      <td>...</td>\n",
       "      <td>71.0</td>\n",
       "      <td>Race/Ethnicity Identified</td>\n",
       "      <td>Civilians</td>\n",
       "      <td>5</td>\n",
       "      <td>Firearms</td>\n",
       "      <td>NaN</td>\n",
       "      <td>NaN</td>\n",
       "      <td>NaN</td>\n",
       "      <td>NaN</td>\n",
       "      <td>NaN</td>\n",
       "    </tr>\n",
       "    <tr>\n",
       "      <th>2</th>\n",
       "      <td>2000</td>\n",
       "      <td>1</td>\n",
       "      <td>1</td>\n",
       "      <td>185</td>\n",
       "      <td>Spain</td>\n",
       "      <td>8</td>\n",
       "      <td>Western Europe</td>\n",
       "      <td>Basque Country</td>\n",
       "      <td>Galdacano</td>\n",
       "      <td>2</td>\n",
       "      <td>...</td>\n",
       "      <td>27.0</td>\n",
       "      <td>Military Barracks/Base/Headquarters/Checkpost</td>\n",
       "      <td>Spanish Civil Guard</td>\n",
       "      <td>8</td>\n",
       "      <td>Incendiary</td>\n",
       "      <td>NaN</td>\n",
       "      <td>NaN</td>\n",
       "      <td>NaN</td>\n",
       "      <td>NaN</td>\n",
       "      <td>NaN</td>\n",
       "    </tr>\n",
       "    <tr>\n",
       "      <th>3</th>\n",
       "      <td>2000</td>\n",
       "      <td>1</td>\n",
       "      <td>1</td>\n",
       "      <td>185</td>\n",
       "      <td>Spain</td>\n",
       "      <td>8</td>\n",
       "      <td>Western Europe</td>\n",
       "      <td>Basque Country</td>\n",
       "      <td>Guernica</td>\n",
       "      <td>2</td>\n",
       "      <td>...</td>\n",
       "      <td>3.0</td>\n",
       "      <td>Bank/Commerce</td>\n",
       "      <td>Bank</td>\n",
       "      <td>8</td>\n",
       "      <td>Incendiary</td>\n",
       "      <td>NaN</td>\n",
       "      <td>NaN</td>\n",
       "      <td>NaN</td>\n",
       "      <td>NaN</td>\n",
       "      <td>NaN</td>\n",
       "    </tr>\n",
       "    <tr>\n",
       "      <th>4</th>\n",
       "      <td>2000</td>\n",
       "      <td>1</td>\n",
       "      <td>2</td>\n",
       "      <td>75</td>\n",
       "      <td>Germany</td>\n",
       "      <td>8</td>\n",
       "      <td>Western Europe</td>\n",
       "      <td>Thuringia</td>\n",
       "      <td>Erfurt</td>\n",
       "      <td>2</td>\n",
       "      <td>...</td>\n",
       "      <td>18.0</td>\n",
       "      <td>Government Personnel (excluding police</td>\n",
       "      <td>military)</td>\n",
       "      <td>Thuringian Interior Ministry</td>\n",
       "      <td>8</td>\n",
       "      <td>Incendiary</td>\n",
       "      <td>NaN</td>\n",
       "      <td>NaN</td>\n",
       "      <td>NaN</td>\n",
       "      <td>NaN</td>\n",
       "    </tr>\n",
       "  </tbody>\n",
       "</table>\n",
       "<p>5 rows × 23 columns</p>\n",
       "</div>"
      ],
      "text/plain": [
       "   year  month  day country  country  region      region_txt  \\\n",
       "0  2000      1    1    1003   Kosovo       9  Eastern Europe   \n",
       "1  2000      1    1    1003   Kosovo       9  Eastern Europe   \n",
       "2  2000      1    1     185    Spain       8  Western Europe   \n",
       "3  2000      1    1     185    Spain       8  Western Europe   \n",
       "4  2000      1    2      75  Germany       8  Western Europe   \n",
       "\n",
       "               state       city  attacktype1  ... targsubtype1  \\\n",
       "0  Kosovo (Province)       Peje            3  ...         76.0   \n",
       "1  Kosovo (Province)  Gorazhdec            2  ...         71.0   \n",
       "2     Basque Country  Galdacano            2  ...         27.0   \n",
       "3     Basque Country   Guernica            2  ...          3.0   \n",
       "4          Thuringia     Erfurt            2  ...         18.0   \n",
       "\n",
       "                                targsubtype1_txt                corp1  \\\n",
       "0                      House/Apartment/Residence            Civilians   \n",
       "1                      Race/Ethnicity Identified            Civilians   \n",
       "2  Military Barracks/Base/Headquarters/Checkpost  Spanish Civil Guard   \n",
       "3                                  Bank/Commerce                 Bank   \n",
       "4         Government Personnel (excluding police            military)   \n",
       "\n",
       "                      weaptype1      weapon Unnamed: 18 Unnamed: 19  \\\n",
       "0                             6  Explosives         NaN         NaN   \n",
       "1                             5    Firearms         NaN         NaN   \n",
       "2                             8  Incendiary         NaN         NaN   \n",
       "3                             8  Incendiary         NaN         NaN   \n",
       "4  Thuringian Interior Ministry           8  Incendiary         NaN   \n",
       "\n",
       "  Unnamed: 20 Unnamed: 21 Unnamed: 22  \n",
       "0         NaN         NaN         NaN  \n",
       "1         NaN         NaN         NaN  \n",
       "2         NaN         NaN         NaN  \n",
       "3         NaN         NaN         NaN  \n",
       "4         NaN         NaN         NaN  \n",
       "\n",
       "[5 rows x 23 columns]"
      ]
     },
     "execution_count": 179,
     "metadata": {},
     "output_type": "execute_result"
    }
   ],
   "source": [
    "import numpy as np\n",
    "import pandas as pd \n",
    "import matplotlib.pyplot as plt\n",
    "\n",
    "\n",
    "data = pd.read_csv('dane_proj.csv', encoding='ISO-8859-1')\n",
    "data = data.rename(\n",
    "  columns={'iyear':'year', 'imonth':'month', 'iday':'day',\n",
    "          'country_txt':'country', 'provstate':'state', 'targtype1_txt':'target',\n",
    "        'weaptype1_txt':'weapon'})\n",
    "\n",
    "data.head()"
   ]
  },
  {
   "cell_type": "markdown",
   "metadata": {},
   "source": [
    "# What percentage of attacks took place in Eastern Europe?"
   ]
  },
  {
   "cell_type": "code",
   "execution_count": 86,
   "metadata": {},
   "outputs": [
    {
     "data": {
      "image/png": "[encoded data removed]",
      "text/plain": [
       "<Figure size 432x288 with 1 Axes>"
      ]
     },
     "metadata": {},
     "output_type": "display_data"
    }
   ],
   "source": [
    "\n",
    "E_E=0\n",
    "W_E=0\n",
    "\n",
    "\n",
    "for item in data.region_txt:\n",
    " \n",
    "    if item == \"Western Europe\":\n",
    "        W_E=W_E+1\n",
    "    if item == \"Eastern Europe\":\n",
    "        E_E=E_E+1\n",
    "\n",
    "        \n",
    "lista = [W_E, E_E]  \n",
    "suma=sum(lista)\n",
    "\n",
    "\n",
    "\n",
    "labels = [\"Western Europe\",  \"Eastern Europe\"]\n",
    "sizes = [W_E/suma, E_E/suma]\n",
    "colors = [\"yellowgreen\", \"lightcoral\"]\n",
    "explode = (0, 0.1)#tylko 2 wycienek zostanieodsuniety\n",
    "plt.pie( sizes, explode =explode, labels = labels,colors = colors, autopct =\"%1.1f%%\", shadow = True )\n",
    "plt.axis( \"equal\" )\n",
    "plt.show()"
   ]
  },
  {
   "cell_type": "markdown",
   "metadata": {},
   "source": [
    "# Which types of weapons were the most used?"
   ]
  },
  {
   "cell_type": "code",
   "execution_count": 68,
   "metadata": {},
   "outputs": [
    {
     "data": {
      "image/png": "[encoded data removed]",
      "text/plain": [
       "<Figure size 432x288 with 1 Axes>"
      ]
     },
     "metadata": {
      "needs_background": "light"
     },
     "output_type": "display_data"
    }
   ],
   "source": [
    "bombs=0\n",
    "a_ass=0\n",
    "firearms=0\n",
    "assassination=0\n",
    "biological=0\n",
    "kiddnaping=0\n",
    "\n",
    "\n",
    "for attack in data['weapon'].values:\n",
    "    if attack == 3:\n",
    "        bombs+=1\n",
    "    elif attack == 2:\n",
    "        a_ass+=1\n",
    "    elif attack == 5:\n",
    "        firearms+=1\n",
    "    elif attack == 1:\n",
    "        assassination+=1\n",
    "    elif attack==6 or attack == 5:\n",
    "        kiddnaping+=1\n",
    "\n",
    "        \n",
    "        \n",
    "        \n",
    "xaxis = ['bombs', 'arm_assault', 'firearms', 'assass.', 'hostage taking'] \n",
    "yaxis = [bombs, a_ass, firearms, assassination, kiddnaping]       \n",
    "\n",
    "\n",
    "plt.tick_params(axis = 'x', colors = '#072b57')\n",
    "plt.tick_params(axis = 'y', colors = '#072b57')\n",
    "\n",
    "rects = plt.bar(xaxis, yaxis, align = 'center', color = '#b8ff5c') \n",
    "\n",
    "\n",
    "plt.xlabel('Examples of weapons', color = '#072b57')\n",
    "plt.ylabel('Amount of attacks', color = '#072b57')\n",
    "plt.title('Coparison of amount of attack with diffrent weapons 2000-2017', color = '#072b57')\n",
    "\n",
    "plt.grid(True)\n",
    "plt.show()\n",
    "\n",
    "\n",
    "\n"
   ]
  },
  {
   "cell_type": "markdown",
   "metadata": {},
   "source": [
    "# What is the relationship between the number of attacks and the month of their occurrence?"
   ]
  },
  {
   "cell_type": "code",
   "execution_count": 71,
   "metadata": {},
   "outputs": [
    {
     "data": {
      "image/png": "[encoded data removed]",
      "text/plain": [
       "<Figure size 432x288 with 2 Axes>"
      ]
     },
     "metadata": {
      "needs_background": "light"
     },
     "output_type": "display_data"
    }
   ],
   "source": [
    "\n",
    "x = ['Jan', 'Feb', 'Mar', 'Apr', 'May', 'Jun', 'Jul','Aug', 'Sep', 'Oct', 'Nov', 'Dec']\n",
    "y = np.linspace(2000, 2017, 17 )\n",
    "X, Y = np.meshgrid( x, y )\n",
    "\n",
    "r=2000\n",
    "indeks=0\n",
    "poczatek=0\n",
    "rok=[]\n",
    "iteratpr=0\n",
    "calosc=[]\n",
    "iterator=0\n",
    "\n",
    "wycinek_danych = []\n",
    "for element in data['month']:\n",
    "    wycinek_danych.append(element)\n",
    "    \n",
    "\n",
    "for element in data['year'].values:\n",
    "    if element == r:\n",
    "        indeks+=1\n",
    "    else:\n",
    "        r+=1\n",
    "        month=1\n",
    "        for i in range(1,12):\n",
    "            rok.append(wycinek_danych[poczatek:poczatek+indeks].count(i))\n",
    "        calosc.append(rok)\n",
    "        rok=[]\n",
    "        poczatek+=indeks\n",
    "        indeks=0\n",
    "    if r == 2018:\n",
    "        break\n",
    "                \n",
    "\n",
    "plt.imshow( calosc, cmap = \"jet\" )\n",
    "plt.colorbar()\n",
    "plt.xticks( [] )\n",
    "plt.yticks( [] )\n",
    "plt.xlabel('Months Jan - Dec ')             \n",
    "plt.ylabel(\"Years 2000 - 2017\")\n",
    "plt.show()"
   ]
  },
  {
   "cell_type": "markdown",
   "metadata": {},
   "source": [
    "# How many attacks were from 2000 to 2017 in Western and Eastern Europe?"
   ]
  },
  {
   "cell_type": "code",
   "execution_count": 96,
   "metadata": {},
   "outputs": [
    {
     "data": {
      "image/png": "[encoded data removed]",
      "text/plain": [
       "<Figure size 432x288 with 1 Axes>"
      ]
     },
     "metadata": {
      "needs_background": "light"
     },
     "output_type": "display_data"
    }
   ],
   "source": [
    "europa_wschodnia = []\n",
    "europa_zachodnia = []\n",
    "region=[]\n",
    "podsumowanie_zach=[]\n",
    "podsumowanie_wsch=[]\n",
    "\n",
    "for element in data['region_txt']:\n",
    "    region.append(element)\n",
    "\n",
    "i=0\n",
    "for element in data['year']:\n",
    "    if region[i] == \"Western Europe\":\n",
    "        europa_zachodnia.append(element)\n",
    "    if region[i] == \"Eastern Europe\":\n",
    "        europa_wschodnia.append(element)\n",
    "    i+=1\n",
    " \n",
    "for i in range (2000,2017):\n",
    "    podsumowanie_zach.append(europa_zachodnia.count(i))\n",
    "    podsumowanie_wsch.append(europa_wschodnia.count(i))\n",
    "    \n",
    "xaxis=np.linspace(2000,2017,17)   \n",
    "plt.plot(xaxis, podsumowanie_zach,\"r-\", label='Western Europe')\n",
    "plt.plot(xaxis, podsumowanie_wsch,\"g-\", label='Eastern Europe')\n",
    "plt.legend(loc='upper left')     \n",
    "plt.xlabel('Year')              \n",
    "plt.ylabel('Amount of attacks')\n",
    "plt.title('Comparison the amount of attacks in Western and Eastern Europe')            \n",
    "plt.show()\n"
   ]
  },
  {
   "cell_type": "markdown",
   "metadata": {},
   "source": [
    "# What were the most common targets of attacks?"
   ]
  },
  {
   "cell_type": "code",
   "execution_count": 172,
   "metadata": {},
   "outputs": [],
   "source": [
    "\n",
    "target = []\n",
    "target_codes = []\n",
    "\n",
    "for element in data['target']:\n",
    "    target.append(element)\n",
    "\n",
    "\n",
    "for attack in target:\n",
    "    if attack in ['Business', 'Journalists & Media', 'NGO']:\n",
    "        target_codes.append(1)\n",
    "    elif attack in ['Government (General)', 'Government (Diplomatic)']:\n",
    "        target_codes.append(2)\n",
    "    elif attack == 'Abortion Related':\n",
    "        target_codes.append(4)\n",
    "    elif attack == 'Educational Institution':\n",
    "        target_codes.append(5)\n",
    "    elif attack == 'Police':\n",
    "        target_codes.append(6)\n",
    "    elif attack == 'Military':\n",
    "        target_codes.append(7)\n",
    "    elif attack == 'Religious Figures/Institutions':\n",
    "        target_codes.append(8)\n",
    "    elif attack in ['Airports & Aircraft', 'Maritime', 'Transportation']:\n",
    "        target_codes.append(9)\n",
    "    elif attack in ['Food or Water Supply', 'Telecommunication', 'Utilities']:\n",
    "        target_codes.append(10)\n",
    "    else:\n",
    "        target_codes.append(3)\n",
    "        \n",
    "suma= len(target_codes)      \n"
   ]
  },
  {
   "cell_type": "code",
   "execution_count": 184,
   "metadata": {},
   "outputs": [
    {
     "data": {
      "image/png": "[encoded data removed]",
      "text/plain": [
       "<Figure size 432x288 with 1 Axes>"
      ]
     },
     "metadata": {},
     "output_type": "display_data"
    }
   ],
   "source": [
    "names=['Business, Journalists & Media, NGO', 'Government (General), Government (Diplomatic)', 'Abortion Related', 'Educational Institution','Police', 'Military', 'Religious', 'Aiports', 'Food or Water Supply, Telecomunnication']\n",
    "size=[target_codes.count(1)/suma,target_codes.count(2)/suma,target_codes.count(3)/suma,target_codes.count(4)/suma,target_codes.count(5)/suma,target_codes.count(6)/suma,target_codes.count(7)/suma,target_codes.count(8)/suma,target_codes.count(9)/suma]\n",
    " \n",
    "\n",
    "my_circle=plt.Circle( (0,0), 0.7, color='white')\n",
    "\n",
    "plt.pie(size, labels=names, colors=['black','green','blue','skyblue','orange','purple','yellow','skyblue','red'])\n",
    "p=plt.gcf()\n",
    "p.gca().add_artist(my_circle)\n",
    "plt.title('Target types in the Europe')\n",
    "plt.show()\n",
    "\n"
   ]
  },
  {
   "cell_type": "code",
   "execution_count": null,
   "metadata": {},
   "outputs": [],
   "source": []
  }
 ],
 "metadata": {
  "kernelspec": {
   "display_name": "Python 3",
   "language": "python",
   "name": "python3"
  },
  "language_info": {
   "codemirror_mode": {
    "name": "ipython",
    "version": 3
   },
   "file_extension": ".py",
   "mimetype": "text/x-python",
   "name": "python",
   "nbconvert_exporter": "python",
   "pygments_lexer": "ipython3",
   "version": "3.5.2"
  }
 },
 "nbformat": 4,
 "nbformat_minor": 2
}
